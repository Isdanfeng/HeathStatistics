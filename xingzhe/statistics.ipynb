{
 "cells": [
  {
   "cell_type": "code",
   "execution_count": null,
   "metadata": {},
   "outputs": [],
   "source": [
    "# from gpxpy import gpx\n",
    "import gpxpy\n",
    "import gpxpy.gpx\n",
    "\n",
    "# parsing an existing file\n",
    "with open('60.gpx', 'r', encoding='utf-8') as gpx_file:\n",
    "    gpx_data = gpxpy.parse(gpx_file)\n",
    "\n",
    "# 遍历轨迹点\n",
    "for track in gpx_data.tracks:\n",
    "    for segment in track.segments:\n",
    "        for point in segment.points:\n",
    "            # 获取纬度和经度\n",
    "            latitude = point.latitude\n",
    "            longitude = point.longitude\n",
    "            # 获取海拔高度\n",
    "            elevation = point.elevation\n",
    "            # 获取时间戳\n",
    "            time = point.time\n",
    "            # 打印信息\n",
    "            # print(f\"Latitude: {latitude}, Longitude: {longitude}, Elevation: {elevation}, Time: {time}\")"
   ]
  }
 ],
 "metadata": {
  "kernelspec": {
   "display_name": "Python 3",
   "language": "python",
   "name": "python3"
  },
  "language_info": {
   "codemirror_mode": {
    "name": "ipython",
    "version": 3
   },
   "file_extension": ".py",
   "mimetype": "text/x-python",
   "name": "python",
   "nbconvert_exporter": "python",
   "pygments_lexer": "ipython3",
   "version": "3.11.1"
  },
  "orig_nbformat": 4
 },
 "nbformat": 4,
 "nbformat_minor": 2
}
